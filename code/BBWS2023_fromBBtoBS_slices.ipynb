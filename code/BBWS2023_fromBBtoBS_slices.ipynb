{
 "cells": [
  {
   "cell_type": "markdown",
   "metadata": {
    "slideshow": {
     "slide_type": "slide"
    }
   },
   "source": [
    "<div style=\"text-align: right\">\n",
    "    <img src=\"img/BBWS2023_cropped.png\" alt=\"\" width=\"1200\" id=\"hp\"/>\n",
    "</div>\n",
    "\n",
    "# Tutorial 1: from BigBrains to BrainSpaces\n",
    "\n",
    "🇮🇸 7th BigBrain Workshop, Reykjavík, Iceland, October 4 2023.\n",
    "\n",
    "**Content creators:** Jessica Royer, Raul R. Cruces, Boris Bernhardt. MICA lab\n",
    "\n",
    "## 🐳 Tutorial Objectives\n",
    "\n",
    "Estimated duration of tutorial: 75 minutes\n",
    "\n",
    "### 🌋 Contextualization of BigBrain in a standarized MRI-compatible surface space\n",
    "1. In this notebook we'll use the BigBrain intensities mapped to an standard cortical surface (fsLR-32k, Glasser et al. 2013, NeuroImage). \n",
    "2. Build a microstructural profile covariance matrix derived from the BigBrain intensities\n",
    "3. Use a dimensionality reduction technique to highlight the major axes of variance in the MPC matrix.\n",
    "4. Use an openly available MRI 3T dataset to assess the similarity between BigBrain histological stain intensities and a myelin-sensitive MRI acquisition.\n"
   ]
  },
  {
   "cell_type": "markdown",
   "metadata": {
    "slideshow": {
     "slide_type": "slide"
    }
   },
   "source": [
    "<div style=\"text-align: right\">\n",
    "    <img src=\"img/BBWS2023_cropped.png\" alt=\"\" width=\"1200\" id=\"hp\"/>\n",
    "</div>\n",
    "\n",
    "# Tutorial 1: from BigBrains to BrainSpaces\n",
    "\n",
    "### 🏔️ Overview:\n",
    "\n",
    "1. Download pre-generated BigBrain intensity profiles using BrainStat\n",
    "2. Plot vertexwise mean intensities on the cortical surface\n",
    "3. Calculate the MPC matrix on parcellated BigBrain intensity data (MPC-Hist)\n",
    "4. Apply diffusion map embedding to obtain eigenvectors or gradients of the MPC-Hist matrix\n",
    "5. Download qT1 MPC from the public repository MICA-MICs (MPC-MRI)\n",
    "6. Calculate the group-average MPC-MRI\n",
    "7. Apply diffusion map embedding to obtain eigenvectors or gradients of the MPC-MRI matrix.\n",
    "8. Calculate the correlation between gradients generated from histological and qT1 MRI data\n",
    "9. Plot the correlation with ranked values.\n",
    "10. Use a permutation test to assess the statistical significance the correlation \n"
   ]
  },
  {
   "cell_type": "markdown",
   "metadata": {
    "slideshow": {
     "slide_type": "slide"
    }
   },
   "source": [
    "# BigBrain intensities on fsLR32k\n",
    "\n",
    "<p></p>\n",
    "\n",
    "<div style=\"text-align: center\">\n",
    "    <img src=\"img/bigbrain_mpc.png\" alt=\"\" width=\"800\" id=\"hp\"/>\n",
    "</div>\n",
    "\n",
    "> Paquola et al. \"The BigBrainWarp toolbox for integration of BigBrain 3D histology with multimodal neuroimaging.\" Elife 10 (2021): e70119. [10.7554/eLife.70119] (https://doi.org/10.7554/eLife.70119) \n",
    "\n",
    "> Paquola et al. \"Microstructural and functional gradients are increasingly dissociated in transmodal cortices.\" PLoS biology 17.5 (2019): e3000284. [0.1371/journal.pbio.3000284] (https://doi.org/10.1371/journal.pbio.3000284)\n"
   ]
  },
  {
   "cell_type": "markdown",
   "metadata": {
    "slideshow": {
     "slide_type": "slide"
    }
   },
   "source": [
    "# 1. Download pre-generated BigBrain intensity profiles using `BrainStat` "
   ]
  },
  {
   "cell_type": "code",
   "execution_count": null,
   "metadata": {
    "slideshow": {
     "slide_type": "fragment"
    }
   },
   "outputs": [],
   "source": [
    "import h5py\n",
    "from brainstat.context.histology import download_histology_profiles\n",
    "\n",
    "# Download BigBrain histological profiles\n",
    "# other template provided by BrainStat is: fsaverage\n",
    "# Data and processed gradients also available in the BigBrainWarp toolbox\n",
    "download_histology_profiles(data_dir='./', template='fslr32k', overwrite=True)\n",
    "download_histology_profiles(data_dir='./', template='fsaverage5', overwrite=True)\n",
    "\n",
    "# Read the file\n",
    "h5 = h5py.File('./histology_fslr32k.h5','r')\n",
    "histology_profiles=h5['fs_LR_64k']\n",
    "\n",
    "# Read the file\n",
    "h5 = h5py.File('./histology_fsaverage5.h5','r')\n",
    "histology_profiles_fs5=h5['fsaverage5']\n",
    "\n",
    "# Print file information\n",
    "histology_profiles"
   ]
  },
  {
   "cell_type": "markdown",
   "metadata": {
    "slideshow": {
     "slide_type": "slide"
    }
   },
   "source": [
    "# Load the standard brain surfaces"
   ]
  },
  {
   "cell_type": "code",
   "execution_count": null,
   "metadata": {
    "slideshow": {
     "slide_type": "fragment"
    }
   },
   "outputs": [],
   "source": [
    "# Libraries for plotting\n",
    "import numpy as np\n",
    "import matplotlib.pyplot as plt\n",
    "import matplotlib.cm as cm\n",
    "import cmocean\n",
    "import cmocean.cm as cmo\n",
    "\n",
    "# Command to load surfaces\n",
    "from brainstat.datasets import fetch_template_surface\n",
    "\n",
    "# Load surfaces\n",
    "inf_left, inf_right = fetch_template_surface(\"fslr32k\", join=False, layer='inflated')\n",
    "fs5_left, fs5_right = fetch_template_surface(\"fsaverage5\", join=False, layer='inflated')"
   ]
  },
  {
   "cell_type": "markdown",
   "metadata": {
    "slideshow": {
     "slide_type": "fragment"
    }
   },
   "source": [
    "<details><summary> ▶️ fetch_template_surface surfaces</summary>\n",
    "<p>\n",
    "\n",
    "\n",
    "> **template:** Cortical surface template to use. Valid values are ‘fsaverage5’, ‘fsaverage6’, ‘fsaverage’, ‘fslr32k’, ‘civet41k’, ‘civet164k’.\n",
    "    \n",
    "</p>\n",
    "</details>"
   ]
  },
  {
   "cell_type": "markdown",
   "metadata": {
    "slideshow": {
     "slide_type": "slide"
    }
   },
   "source": [
    "# Histogram of the mean intensities of BigBrain on fsLR-32k"
   ]
  },
  {
   "cell_type": "code",
   "execution_count": null,
   "metadata": {
    "slideshow": {
     "slide_type": "fragment"
    }
   },
   "outputs": [],
   "source": [
    "# Calculate vertex-wise mean intensity profiles\n",
    "histology_profiles_mean = np.mean(histology_profiles, axis=0)\n",
    "\n",
    "# Calculate quantile range for plotting\n",
    "Range=(np.quantile(histology_profiles_mean, 0.005), np.quantile(histology_profiles_mean, 0.925))\n",
    "\n",
    "# Histogram of the mean intensity profile\n",
    "n, bins, _ = plt.hist(histology_profiles_mean, bins=1000)\n",
    "bin_centers = (bins[:-1] + bins[1:]) / 2  # Compute the bin centers\n",
    "colormap = cm.get_cmap('cmo.dense_r')\n",
    "colored_bins = colormap(np.interp(bin_centers, [Range[0], Range[1]], [0, 1]))"
   ]
  },
  {
   "cell_type": "code",
   "execution_count": null,
   "metadata": {
    "slideshow": {
     "slide_type": "slide"
    }
   },
   "outputs": [],
   "source": [
    "# Color The histogram acording to the range\n",
    "plt.bar(bin_centers, n, width=np.diff(bins), color=colored_bins)\n",
    "plt.xlabel('Mean intensity', fontsize=10)  # Increase font size for x-label\n",
    "plt.ylabel('Frequency', fontsize=10)       # Increase font size for y-label\n",
    "plt.title('Mean vertex-wise', fontsize=12)   # Increase font size for title\n",
    "\n",
    "# Add vertical red lines at the values in Range\n",
    "plt.axvline(Range[0], color='red', linestyle='--', label='Range Start')\n",
    "plt.axvline(Range[1], color='red', linestyle='--', label='Range End')\n",
    "\n",
    "# Remove the outer box line\n",
    "for spine in plt.gca().spines.values():\n",
    "    spine.set_visible(False)\n",
    "# Set the grid on the back\n",
    "plt.gca().set_axisbelow(True)\n",
    "plt.grid(color='gray', linestyle='dashed')"
   ]
  },
  {
   "cell_type": "markdown",
   "metadata": {
    "slideshow": {
     "slide_type": "slide"
    }
   },
   "source": [
    "# 2. Plot vertexwise mean intensities on the fsLR-32k surface"
   ]
  },
  {
   "cell_type": "markdown",
   "metadata": {
    "slideshow": {
     "slide_type": "fragment"
    }
   },
   "source": [
    "<details><summary> ▶️ pyvirtualdisplay</summary>\n",
    "<p>\n",
    "    \n",
    "```python\n",
    "from pyvirtualdisplay import Display\n",
    "dsize = (900, 750)\n",
    "display = Display(visible=0, size=dsize)\n",
    "display.start()\n",
    "```\n",
    "    \n",
    "</p>\n",
    "</details>"
   ]
  },
  {
   "cell_type": "code",
   "execution_count": null,
   "metadata": {
    "slideshow": {
     "slide_type": "fragment"
    }
   },
   "outputs": [],
   "source": [
    "from brainspace.plotting import plot_hemispheres\n",
    "\n",
    "# Plot the vertexwise mean intensity profile\n",
    "plot_hemispheres(inf_left, inf_right, \n",
    "                 array_name=histology_profiles_mean, \n",
    "                 nan_color=(0, 0, 0, 1),\n",
    "                 size=(900, 250), \n",
    "                 color_bar='bottom', \n",
    "                 zoom=1.25, \n",
    "                 embed_nb=True,\n",
    "                 layout_style='row',\n",
    "                 color_range=Range,\n",
    "                 cmap='cmo.dense_r',\n",
    "                 share='both'\n",
    "                )"
   ]
  },
  {
   "cell_type": "markdown",
   "metadata": {
    "slideshow": {
     "slide_type": "slide"
    }
   },
   "source": [
    "## 2.1 Plot vertexwise mean intensities on the fsaverage5 surface"
   ]
  },
  {
   "cell_type": "code",
   "execution_count": null,
   "metadata": {
    "slideshow": {
     "slide_type": "fragment"
    }
   },
   "outputs": [],
   "source": [
    "# Calculate vertexwise mean intensity profile\n",
    "histology_profiles_mean_fs5 = np.mean(histology_profiles_fs5, axis=0)\n",
    "\n",
    "# Calculate quantile range for plotting\n",
    "Range=(np.quantile(histology_profiles_mean_fs5, 0.005), np.quantile(histology_profiles_mean_fs5, 0.925))\n",
    "\n",
    "# Plot the vertex-wise mean intensity profile\n",
    "plot_hemispheres(fs5_left, fs5_right, \n",
    "                 array_name=histology_profiles_mean_fs5, \n",
    "                 nan_color=(0, 0, 0, 1),\n",
    "                 size=(900, 250), \n",
    "                 color_bar='bottom',\n",
    "                 zoom=1.25, \n",
    "                 embed_nb=True,\n",
    "                 layout_style='row',\n",
    "                 color_range=Range,\n",
    "                 cmap='cmo.dense_r',\n",
    "                 share='both'\n",
    "                )"
   ]
  },
  {
   "cell_type": "markdown",
   "metadata": {
    "slideshow": {
     "slide_type": "slide"
    }
   },
   "source": [
    "# 3. Calculate the MPC matrix on parcellated BigBrain intensity data (MPC-Hist)\n",
    "\n",
    "## What is microstructural profile covariance or MPC? 🤔\n",
    "MPC is a technique that simply computes a partial correlation between all pairs of intensity profiles sampled along the cortical mesh, while controlling for the cortex-wide average profile. This way, positive correlations indicate that two regions show similar shapes in their intensity profiles, above and beyond the overall average profile shape found across the cortex.\n",
    "\n",
    "<div style=\"text-align: center\">\n",
    "<img src=\"https://oup.silverchair-cdn.com/oup/backfile/Content_public/Journal/brain/146/9/10.1093_brain_awad125/1/awad125f1.jpeg?Expires=1697661260&Signature=iom0awZonSDzswt5gRNIdp5wK7KwVa-UGon3eJiJYD3iK9rGExDHDQ~AyhYiJCU-GLkPYePpcTLaEAhbmhPQD0Wqn-6pCUmT8g8xdJdWtaGZisfAq8L31jWndioJWp~R5IpRBMxMfbjSKDiK0JmmRj1HaBGSiSstFnAcdgHygsuI2d7NiEklw2jsE3SsClQWjWMd5jkmuJhT5t9N689INXt9kQeSmyEz9Yfi2WHcODKXUF0d13qO8uiBw9uC1KnvMRwzU3jSMOjw9GaSjhmrYwz9JwLVLpvGCwJ-9vqlvaYqoPgoxFNo~XqM5Xai8dhlK3oXnUpZT4lJCkh-CEan8A__&Key-Pair-Id=APKAIE5G5CRDK6RD3PGA\" alt=\"\" width=\"600\" id=\"hp\"/>\n",
    "</div>\n",
    "\n",
    "> Royer et al. \"Cortical microstructural gradients capture memory network reorganization in temporal lobe epilepsy.\" Brain 146.9 (2023): 3923-3937. https://doi.org/10.1093/brain/awad125\n"
   ]
  },
  {
   "cell_type": "markdown",
   "metadata": {
    "slideshow": {
     "slide_type": "slide"
    }
   },
   "source": [
    "## How is the MPC matrix calculated?\n",
    "Vertex-wise intensity profiles are cross-correlated using partial correlations controlling for the average cortex-wide intensity profile, and log-transformed. The result constitutes a given participant's MPC matrix representing individual-specific similarity in myelin proxies across the cortex."
   ]
  },
  {
   "cell_type": "code",
   "execution_count": null,
   "metadata": {
    "slideshow": {
     "slide_type": "fragment"
    }
   },
   "outputs": [],
   "source": [
    "from brainstat.datasets import fetch_parcellation\n",
    "\n",
    "# Fetch an atlas parcellation\n",
    "atlas = fetch_parcellation(template=\"fslr32k\", atlas=\"schaefer\", n_regions=800)\n",
    "\n",
    "# Get the mask\n",
    "mask = atlas != 0"
   ]
  },
  {
   "cell_type": "markdown",
   "metadata": {
    "slideshow": {
     "slide_type": "fragment"
    }
   },
   "source": [
    "<details><summary> ▶️ fetch_parcellation details</summary>\n",
    "<p>\n",
    "    \n",
    "```python\n",
    "def fetch_parcellation(\n",
    "    template: str,\n",
    "    atlas: str,\n",
    "    n_regions: int,\n",
    "    join: bool = True,\n",
    "    seven_networks: bool = True,\n",
    "    data_dir: Optional[Union[str, Path]] = None,\n",
    ") -> Union[np.ndarray, Tuple[np.ndarray, np.ndarray]]:\n",
    "    \"\"\"Loads the surface parcellation of a given atlas.\n",
    "\n",
    "    Parameters\n",
    "    ----------\n",
    "    template : str,\n",
    "        The surface template. Valid values are \"fsaverage\", \"fsaverage5\",\n",
    "        \"fsaverage6\", \"fslr32k\", \"civet41k\", \"civet164k\", by default \"fsaverage5\".\n",
    "    atlas : str\n",
    "        Name of the atlas. Valid names are \"cammoun\", \"glasser\", \"schaefer\", \"yeo\".\n",
    "    n_regions : int\n",
    "        Number of regions of the requested atlas. Valid values for the cammoun\n",
    "        atlas are 33, 60, 125, 250, 500. Valid values for the glasser atlas are\n",
    "        360. Valid values for the \"schaefer\" atlas are 100, 200, 300, 400, 500,\n",
    "        600, 800, 1000. Valid values for \"yeo\" are 7 and 17.\n",
    "    join : bool, optional\n",
    "        If true, returns parcellation as a single array, if false, returns an\n",
    "        array per hemisphere, by default True.\n",
    "    seven_networks : bool, optional\n",
    "        If true, uses the 7 networks parcellation. Only used for the Schaefer\n",
    "        atlas, by default True.\n",
    "    data_dir : str, pathlib.Path, optional\n",
    "        Directory to save the data, defaults to $HOME_DIR/brainstat_data/parcellation_data.\n",
    "\n",
    "    Returns\n",
    "    -------\n",
    "    np.ndarray or tuple of np.npdarray\n",
    "        Surface parcellation. If a tuple, then the first element is the left hemisphere.\n",
    "    \"\"\"\n",
    "```\n",
    "    \n",
    "</p>\n",
    "</details>"
   ]
  },
  {
   "cell_type": "markdown",
   "metadata": {
    "slideshow": {
     "slide_type": "slide"
    }
   },
   "source": [
    "# BigBrain intensity profiles by ROI"
   ]
  },
  {
   "cell_type": "code",
   "execution_count": null,
   "metadata": {
    "slideshow": {
     "slide_type": "fragment"
    }
   },
   "outputs": [],
   "source": [
    "from brainspace.utils.parcellation import reduce_by_labels\n",
    "import seaborn as sns\n",
    "\n",
    "# Obtained the ROI based intensity profiles of Big Brain\n",
    "histology_profiles_roi = reduce_by_labels(histology_profiles, atlas)\n",
    "\n",
    "# Plot them \n",
    "ax = sns.heatmap(histology_profiles_roi, vmin=Range[0], vmax=Range[1], cmap='cmo.dense_r', square=False)\n",
    "plt.title(\"BigBrain histology intensity profiles by ROI\")\n",
    "ax.set_ylabel(\"Depth\")\n",
    "ax.set_xlabel(\"ROI\")"
   ]
  },
  {
   "cell_type": "markdown",
   "metadata": {
    "slideshow": {
     "slide_type": "slide"
    }
   },
   "source": [
    "# BigBrain MPC matrix"
   ]
  },
  {
   "cell_type": "code",
   "execution_count": null,
   "metadata": {
    "slideshow": {
     "slide_type": "fragment"
    }
   },
   "outputs": [],
   "source": [
    "from brainstat.context.histology import compute_mpc\n",
    "\n",
    "# Compute MPC\n",
    "MPC_bb = compute_mpc(histology_profiles, labels=atlas)\n",
    "\n",
    "# Plot the mean MPC matrix\n",
    "ax = sns.heatmap(MPC_bb, cmap='cmo.dense_r', square=False)\n",
    "plt.title(\"BigBrain histology MPC\")\n",
    "ax.set_ylabel(\"Depth\")\n",
    "ax.set_xlabel(\"ROI\")"
   ]
  },
  {
   "cell_type": "markdown",
   "metadata": {
    "slideshow": {
     "slide_type": "fragment"
    }
   },
   "source": [
    "<details><summary> ▶️ compute_mpc details</summary>\n",
    "<p>\n",
    "\n",
    "```python\n",
    "def compute_mpc(profile: np.ndarray, labels: np.ndarray) -> np.ndarray:\n",
    "    \"\"\"Computes MPC for given labels on a surface template.\n",
    "\n",
    "    Parameters\n",
    "    ----------\n",
    "    profile : numpy.ndarray\n",
    "        Histological profiles of size surface-by-vertex.\n",
    "    labels : numpy.ndarray\n",
    "        Labels of regions of interest. Use 0 to denote regions that will not be included.\n",
    "\n",
    "    Returns\n",
    "    -------\n",
    "    numpy.ndarray\n",
    "        Microstructural profile covariance.\n",
    "    \"\"\"\n",
    "\n",
    "    roi_profile = reduce_by_labels(profile, labels)\n",
    "    if np.any(labels == 0):\n",
    "        # Remove 0's in the labels.\n",
    "        roi_profile = roi_profile[:, 1:]\n",
    "\n",
    "    p_corr = partial_correlation(roi_profile, np.mean(profile, axis=1))\n",
    "\n",
    "    mpc = 0.5 * np.log((1 + p_corr) / (1 - p_corr))\n",
    "    mpc[p_corr > 0.99999] = 0  # Deals with floating point issues where p_corr==1\n",
    "    mpc[mpc == np.inf] = 0\n",
    "    mpc[mpc == np.nan] = 0\n",
    "\n",
    "    return mpc\n",
    "```\n",
    "\n",
    "</p>\n",
    "</details>"
   ]
  },
  {
   "cell_type": "markdown",
   "metadata": {
    "slideshow": {
     "slide_type": "slide"
    }
   },
   "source": [
    "# 4. Apply diffusion map embedding to obtain eigenvectors or gradients of the MPC-Hist matrix\n",
    "\n",
    "## What are diffusion maps?\n",
    "\n",
    "Diffusion map embedding is a non-linear algorithm useful in the context of data parametrization and dimensionality reduction. This method helps to simplify and understand complex data: It takes a set of data points and turns them into a map where distances between points represent how similar they are. This map is created by looking at how data spreads out over time, kind of like how heat spreads. \n",
    "\n",
    "It is different from other methods because it can handle noisy data and is not limited to straight lines. It helps reveal the underlying structure of the data. They can be applied to problem were linear methods like PCA fail (e.g., swiss roll and complex data). \n",
    "\n",
    "<div style=\"text-align: center\">\n",
    "<img src=\"https://miro.medium.com/v2/resize:fit:720/format:webp/1*bLs7TueTiMfznfCaIEvo8A.png\" alt=\"\" width=\"800\" id=\"hp\"/>\n",
    "</div>\n",
    "\n",
    "> Coifman & Lafon. Diffusion maps. Applied and computational harmonic analysis. 2006 Jul 1;21(1):5-30. https://doi.org/10.1016/j.acha.2006.04.006\n",
    "\n",
    "\n",
    "\n"
   ]
  },
  {
   "cell_type": "markdown",
   "metadata": {
    "slideshow": {
     "slide_type": "slide"
    }
   },
   "source": [
    "## Sounds awesome, how can I apply diffusion maps?\n",
    "\n",
    "1. Prepare your input matrix (e.g., functional connectivity)\n",
    "2. We use a kernel function to build the affinity matrix (here, capturing the connectivity of each seed region)\n",
    "3. This matrix is decomposed using diffusion map embedding into a set of principal eigenvectors describing axes of largest variance\n",
    "4. The scores of each seed onto the first two axes are shown in the scatter plot, with colors denoting position in this 2D space\n",
    "5. These colors may be projected back to the cortical surface and the scores can be used to sort the input connectome\n",
    "\n",
    "<div style=\"text-align: center\">\n",
    "<img src=\"https://media.springernature.com/full/springer-static/image/art%3A10.1038%2Fs42003-020-0794-7/MediaObjects/42003_2020_794_Fig1_HTML.png?as=webp\" alt=\"\" width=\"1400\" id=\"hp\"/>\n",
    "</div>\n"
   ]
  },
  {
   "cell_type": "markdown",
   "metadata": {
    "slideshow": {
     "slide_type": "fragment"
    }
   },
   "source": [
    "## `BrainSpace`\n",
    "\n",
    "If you think these steps seem complicated, don't worry 💙 We have a toolbox ready to answer all of your gradient needs. It's called BrainSpace and is available in both MATLAB and Python!!! 🤖 \n",
    "\n",
    "> Vos de Wael, Benkarim, et al. BrainSpace: a toolbox for the analysis of macroscale gradients in neuroimaging and connectomics datasets. Commun Biol 3, 103 (2020). https://doi.org/10.1038/s42003-020-0794-7 \n"
   ]
  },
  {
   "cell_type": "markdown",
   "metadata": {
    "slideshow": {
     "slide_type": "slide"
    }
   },
   "source": [
    "## How else can we apply diffusion maps to study brain organization?\n",
    "\n",
    "<p>\n",
    "\n",
    "<div style=\"text-align: center\">\n",
    "<img src=\"https://ars.els-cdn.com/content/image/1-s2.0-S1053811922001161-gr1_lrg.jpg\" alt=\"\" width=\"600\" id=\"hp\"/>\n",
    "</div>\n",
    "\n",
    "> Bernhardt, Smallwood, Keilholz, Margulies. Gradients in brain organization. NeuroImage. 2022 May 1;251:118987. https://doi.org/10.1016/j.neuroimage.2022.118987"
   ]
  },
  {
   "cell_type": "markdown",
   "metadata": {
    "slideshow": {
     "slide_type": "slide"
    }
   },
   "source": [
    "# Diffusion maps on the BigBrain MPC "
   ]
  },
  {
   "cell_type": "code",
   "execution_count": null,
   "metadata": {
    "slideshow": {
     "slide_type": "fragment"
    }
   },
   "outputs": [],
   "source": [
    "from brainspace.gradient import GradientMaps\n",
    "\n",
    "# Define the number of gradiants to calculate\n",
    "Ngrad=10\n",
    "\n",
    "# kernel = None, 'pearson', 'spearman', 'normalized_angle'\n",
    "gradient_bb = GradientMaps(n_components=Ngrad, random_state=None, approach='dm', kernel='normalized_angle')\n",
    "gradient_bb.fit(MPC_bb, sparsity=0.9)"
   ]
  },
  {
   "cell_type": "code",
   "execution_count": null,
   "metadata": {
    "slideshow": {
     "slide_type": "fragment"
    }
   },
   "outputs": [],
   "source": [
    "# Plot the Eigenvalues \"Gradients\"\n",
    "fig, ax = plt.subplots(1, figsize=(5, 4))\n",
    "ax.scatter(range(gradient_bb.lambdas_.size), gradient_bb.lambdas_)\n",
    "ax.set_xlabel('Component Nb')\n",
    "ax.set_ylabel('Eigenvalue')\n",
    "\n",
    "plt.show()"
   ]
  },
  {
   "cell_type": "markdown",
   "metadata": {
    "slideshow": {
     "slide_type": "slide"
    }
   },
   "source": [
    "## Eigenvectors \"Gradients\" of BigBrain MPC"
   ]
  },
  {
   "cell_type": "code",
   "execution_count": null,
   "metadata": {
    "slideshow": {
     "slide_type": "fragment"
    }
   },
   "outputs": [],
   "source": [
    "from brainspace.utils.parcellation import map_to_labels\n",
    "\n",
    "# Map gradients to original parcels\n",
    "Nplot=3\n",
    "vertexwise_gradient = [None] * Nplot\n",
    "for i, g in enumerate(gradient_bb.gradients_.T[0:Nplot,:]):\n",
    "    vertexwise_gradient[i] = map_to_labels(g, atlas, fill=np.nan, mask=mask != 0)\n",
    "\n",
    "ylab=['G'+str(x) for x in list(range(1,Nplot+1))]\n",
    "plot_hemispheres(inf_left, inf_right, \n",
    "                 array_name=vertexwise_gradient, \n",
    "                 size=(1000, 600), \n",
    "                 cmap='cmo.rain_r',\n",
    "                 embed_nb=True,  \n",
    "                 label_text={'left':ylab}, \n",
    "                 color_bar='left',\n",
    "                 zoom=1.25, \n",
    "                 nan_color=(0, 0, 0, 1), \n",
    "                 color_range='sym' )"
   ]
  },
  {
   "cell_type": "markdown",
   "metadata": {
    "slideshow": {
     "slide_type": "slide"
    }
   },
   "source": [
    "# 5. Download qT1 MPC from the public repository MICA-MICs (MPC-MRI)\n",
    "This data is part of the derivatives that were generated using micapipe from the Microstructure-Informed Connectomics (MICA-MICs) open dataset available at the CONP portal (https://n2t.net/ark:/70798/d72xnk2wd397j190qv).\n",
    "\n",
    "\n",
    "## Why quantitative T1 mapping (qT1)?\n",
    "Measurement of longitudinal relaxation time (T1) on MRI, referred to as quantitative T1 mapping (qT1), may be sensitive to grey matter myelin content.\n",
    "\n",
    "<div style=\"text-align: center\">\n",
    "<img src=\"https://ars.els-cdn.com/content/image/1-s2.0-S1053811914001359-gr1_lrg.jpg\" alt=\"\" width=\"800\" id=\"hp\"/>\n",
    "</div>\n",
    "\n",
    "> Stüber et al. \"Myelin and iron concentration in the human brain: a quantitative study of MRI contrast.\" Neuroimage 93 (2014): 95-106. https://doi.org/10.1016/j.neuroimage.2014.02.026\n",
    "\n",
    "\n",
    "\n",
    "\n"
   ]
  },
  {
   "cell_type": "markdown",
   "metadata": {
    "slideshow": {
     "slide_type": "slide"
    }
   },
   "source": [
    "## How can we generate MRI-based MPC matrices?"
   ]
  },
  {
   "cell_type": "markdown",
   "metadata": {
    "slideshow": {
     "slide_type": "fragment"
    }
   },
   "source": [
    "1. Calculate your own MPC matrices processing your quantitative MRI with `micapipe` MPC processing ([click here for mode details](https://micapipe.readthedocs.io/en/latest/pages/02.microstructproc/index.html)). \n",
    "\n",
    "<div style=\"text-align: center\">\n",
    "<a href=\"https://micapipe.readthedocs.io/en/latest/index.html\"><img src=\"https://raw.githubusercontent.com/MICA-MNI/micapipe/master/docs/figures/micapipe.png\" alt=\"\" width=\"200\" id=\"hp\"/>\n",
    "</div>"
   ]
  },
  {
   "cell_type": "markdown",
   "metadata": {
    "slideshow": {
     "slide_type": "fragment"
    }
   },
   "source": [
    "2. Use an online already processed dataset like **MICA-MICs**: A dataset for Microstructure-Informed Connectomics. This dataset is hosted on The Canadian Open Neuroscience Platform:  https://portal.conp.ca/dataset?id=projects/mica-mics\n",
    "\n",
    "<div style=\"text-align: center\">\n",
    "<a href=\"https://portal.conp.ca/dataset?id=projects/mica-mics\"><img src=\"https://portal.conp.ca/dataset_logo?id=projects/mica-mics\" alt=\"\" width=\"200\" id=\"hp\"/>\n",
    "</div>\n",
    "    \n",
    "> Royer et al. \"An open MRI dataset for multiscale neuroscience.\" Scientific Data 9.1 (2022): 569. https://doi.org/10.1093/brain/awad125"
   ]
  },
  {
   "cell_type": "markdown",
   "metadata": {
    "slideshow": {
     "slide_type": "slide"
    }
   },
   "source": [
    "# 5. Download qT1 MPC from the public repository MICA-MICs (MPC-MRI)\n",
    "\n",
    "This data is part of the derivatives that were generated using micapipe from the Microstructure-Informed Connectomics (MICA-MICs) open dataset available at the CONP portal (https://n2t.net/ark:/70798/d72xnk2wd397j190qv)."
   ]
  },
  {
   "cell_type": "markdown",
   "metadata": {
    "slideshow": {
     "slide_type": "fragment"
    }
   },
   "source": [
    "## Download the data using `datalad`\n",
    "> Requires `git` and `git-annex`. For more information installing datalad [click here](https://handbook.datalad.org/en/latest/intro/installation.html#install)."
   ]
  },
  {
   "cell_type": "markdown",
   "metadata": {},
   "source": [
    "<details><summary> ▶️ git config</summary>\n",
    "<p>\n",
    "    \n",
    "```bash\n",
    "git config --global user.email \"you@example.com\"\n",
    "git config --global user.name \"Your Name\"\n",
    "```\n",
    "    \n",
    "</p>\n",
    "</details>"
   ]
  },
  {
   "cell_type": "code",
   "execution_count": null,
   "metadata": {
    "slideshow": {
     "slide_type": "fragment"
    }
   },
   "outputs": [],
   "source": [
    "%%bash\n",
    "# Initialize the CONP dataset\n",
    "datalad install https://github.com/CONP-PCNO/conp-dataset.git\n",
    "\n",
    "# Install the MICA-MICs dataset\n",
    "cd conp-dataset\n",
    "datalad install projects/mica-mics\n",
    "\n",
    "# See if it worked\n",
    "tree -d projects/mica-mics/MICs_release/derivatives/micapipe/sub-HC001/*"
   ]
  },
  {
   "cell_type": "markdown",
   "metadata": {
    "slideshow": {
     "slide_type": "slide"
    }
   },
   "source": [
    "## Download the Schaefer-800 atlas"
   ]
  },
  {
   "cell_type": "code",
   "execution_count": null,
   "metadata": {
    "slideshow": {
     "slide_type": "fragment"
    }
   },
   "outputs": [],
   "source": [
    "%%bash \n",
    "\n",
    "# Get only the MPC matrices of Schaefer-800 parcellation\n",
    "cd conp-dataset\n",
    "atlas=schaefer800\n",
    "\n",
    "datalad get projects/mica-mics/MICs_release/derivatives/micapipe/sub-*/ses-*/anat/micro_profiles/*_space-fsnative_atlas-${atlas}_desc-mpc.txt\n",
    "\n",
    "# Get the participants demographics\n",
    "datalad get projects/mica-mics/MICs_release/rawdata/participants.tsv\n"
   ]
  },
  {
   "cell_type": "markdown",
   "metadata": {
    "slideshow": {
     "slide_type": "fragment"
    }
   },
   "source": [
    "<details><summary> ▶️ more pacellations avaliable</summary>\n",
    "\n",
    "- aparc-a2009s \n",
    "    \n",
    "- aparc \n",
    "    \n",
    "- economo \n",
    "    \n",
    "- glasser \n",
    "    \n",
    "- schaefer-100:1000 \n",
    "\n",
    "- vosdewael-100:400\n",
    "\n",
    "</p>\n",
    "</details>"
   ]
  },
  {
   "cell_type": "markdown",
   "metadata": {
    "slideshow": {
     "slide_type": "slide"
    }
   },
   "source": [
    "# 6. Calculate the group-average MPC-MRI"
   ]
  },
  {
   "cell_type": "code",
   "execution_count": null,
   "metadata": {
    "slideshow": {
     "slide_type": "fragment"
    }
   },
   "outputs": [],
   "source": [
    "import glob\n",
    "\n",
    "# Funtion to load and prepare the MPC matrices\n",
    "def load_mpc(path):\n",
    "    # Load the cortical connectome\n",
    "    mtx_mpc = np.loadtxt(path, dtype=np.float, delimiter=' ')\n",
    "\n",
    "    # Fill the lower triangle of the matrix\n",
    "    MPC = np.triu(mtx_mpc,1)+mtx_mpc.T\n",
    "\n",
    "    # Renove the medial wall\n",
    "    MPC = np.delete(np.delete(MPC, 0, axis=0), 0, axis=1)\n",
    "    MPC = np.delete(np.delete(MPC, 400, axis=0), 400, axis=1)\n",
    "    \n",
    "    # replace values close to 0\n",
    "    MPC[MPC==0] = np.finfo(float).eps\n",
    "    return(MPC)\n",
    "\n",
    "# Load all the files\n",
    "parc = \"schaefer800\"\n",
    "MPC_files=sorted(glob.glob(f\"conp-dataset/projects/mica-mics/MICs_release/derivatives/micapipe/sub-*/ses-*/anat/micro_profiles/*_space-fsnative_atlas-{parc}_desc-mpc.txt\"))\n",
    "\n",
    "# Get the dimensions of the MPC matrix\n",
    "Ndim=load_mpc(MPC_files[0]).shape[0]\n",
    "\n",
    "# Load all MPC matrices as array\n",
    "MPC_mics=np.empty([Ndim, Ndim, len(MPC_files)], dtype=float)\n",
    "for i, f in enumerate(MPC_files):\n",
    "    #print(f)\n",
    "    MPC_mics[:,:,i] = load_mpc(f)\n",
    "\n",
    "# Print the shape of all the loaded MPCs\n",
    "print(MPC_mics.shape)"
   ]
  },
  {
   "cell_type": "markdown",
   "metadata": {
    "slideshow": {
     "slide_type": "slide"
    }
   },
   "source": [
    "# 6. Calculate the group-average MPC-MRI matrix"
   ]
  },
  {
   "cell_type": "code",
   "execution_count": null,
   "metadata": {
    "slideshow": {
     "slide_type": "fragment"
    }
   },
   "outputs": [],
   "source": [
    "# Caculate the group mean MPC\n",
    "MPC_mics_mean = np.mean(MPC_mics, axis=2)\n",
    "\n",
    "# Plot the mean MPC matrix\n",
    "ax = sns.heatmap(MPC_mics_mean, cmap='cmo.dense_r', square=False)\n",
    "plt.title(\"MICs qT1 MPC\")\n",
    "ax.set_ylabel(\"Depth\")\n",
    "ax.set_xlabel(\"ROI\")\n",
    "MPC_mics_mean.shape"
   ]
  },
  {
   "cell_type": "markdown",
   "metadata": {
    "slideshow": {
     "slide_type": "slide"
    }
   },
   "source": [
    "# 8. Apply diffusion map embedding to obtain eigenvectors or gradients of the MPC-MRI matrix."
   ]
  },
  {
   "cell_type": "code",
   "execution_count": null,
   "metadata": {
    "slideshow": {
     "slide_type": "fragment"
    }
   },
   "outputs": [],
   "source": [
    "# Define the number of gradiants to calculate\n",
    "Ngrad=10\n",
    "\n",
    "# Calculate the gradients\n",
    "gradient_mics = GradientMaps(n_components=Ngrad, random_state=None, approach='dm', kernel='normalized_angle')\n",
    "gradient_mics.fit(MPC_mics_mean, sparsity=0.9)"
   ]
  },
  {
   "cell_type": "code",
   "execution_count": null,
   "metadata": {
    "slideshow": {
     "slide_type": "fragment"
    }
   },
   "outputs": [],
   "source": [
    "# Plot the Eigenvalues \"Gradients\"\n",
    "fig, ax = plt.subplots(1, figsize=(5, 4))\n",
    "ax.scatter(range(gradient_mics.lambdas_.size), gradient_mics.lambdas_)\n",
    "ax.set_xlabel('Component Nb')\n",
    "ax.set_ylabel('Eigenvalue')\n",
    "\n",
    "plt.show()"
   ]
  },
  {
   "cell_type": "markdown",
   "metadata": {
    "slideshow": {
     "slide_type": "slide"
    }
   },
   "source": [
    "# Eigenvectors \"Gradients\" of MICs MPC T1map"
   ]
  },
  {
   "cell_type": "code",
   "execution_count": null,
   "metadata": {
    "slideshow": {
     "slide_type": "fragment"
    }
   },
   "outputs": [],
   "source": [
    "# Map gradients to original parcels\n",
    "Nplot=3\n",
    "vertexwise_gradient = [None] * Nplot\n",
    "for i, g in enumerate(gradient_mics.gradients_.T[0:Nplot,:]):\n",
    "    vertexwise_gradient[i] = map_to_labels(g, atlas, fill=np.nan, mask=mask != 0)\n",
    "\n",
    "ylab=['G'+str(x) for x in list(range(1,Nplot+1))]\n",
    "plot_hemispheres(inf_left, inf_right, \n",
    "                 array_name=vertexwise_gradient, \n",
    "                 size=(1000, 600), \n",
    "                 cmap='cmo.rain_r',\n",
    "                  embed_nb=True,  \n",
    "                 label_text={'left':ylab}, \n",
    "                 color_bar='left',\n",
    "                 zoom=1.25, \n",
    "                 nan_color=(0, 0, 0, 1), \n",
    "                 color_range='sym' )"
   ]
  },
  {
   "cell_type": "markdown",
   "metadata": {
    "slideshow": {
     "slide_type": "slide"
    }
   },
   "source": [
    "# 8. Is there a correlation between gradients generated from histological and qT1 MRI data?"
   ]
  },
  {
   "cell_type": "code",
   "execution_count": null,
   "metadata": {
    "slideshow": {
     "slide_type": "fragment"
    }
   },
   "outputs": [],
   "source": [
    "from scipy.stats import spearmanr\n",
    "\n",
    "# Compute the correlation matrix\n",
    "corr_bb_mics = spearmanr(gradient_mics.gradients_, gradient_bb.gradients_)[0]\n",
    "corr_bb_mics.shape"
   ]
  },
  {
   "cell_type": "code",
   "execution_count": null,
   "metadata": {
    "slideshow": {
     "slide_type": "fragment"
    }
   },
   "outputs": [],
   "source": [
    "# Plot the correlation matrix\n",
    "ax = sns.heatmap(corr_bb_mics[:10,10:], cmap='RdBu', square=False, vmin=-0.6, vmax=0.6)\n",
    "plt.title(\"Gradient to Gradient correlation\")\n",
    "ax.set_ylabel(\"Gradients MPC-MRI\")\n",
    "ax.set_xlabel(\"Gradients MPC-Hist\")"
   ]
  },
  {
   "cell_type": "code",
   "execution_count": null,
   "metadata": {
    "slideshow": {
     "slide_type": "fragment"
    }
   },
   "outputs": [],
   "source": []
  },
  {
   "cell_type": "markdown",
   "metadata": {
    "slideshow": {
     "slide_type": "fragment"
    }
   },
   "source": [
    "> We see the strongest correlation between MPC-MRI G1 and MPC-Hist G2. Let's look into this a bit deeper 👀"
   ]
  },
  {
   "cell_type": "markdown",
   "metadata": {
    "slideshow": {
     "slide_type": "slide"
    }
   },
   "source": [
    "## Correlation between MPC-MRI G1 and MPC-Hist G2."
   ]
  },
  {
   "cell_type": "code",
   "execution_count": null,
   "metadata": {
    "slideshow": {
     "slide_type": "fragment"
    }
   },
   "outputs": [],
   "source": [
    "from scipy.stats import rankdata\n",
    "\n",
    "# Store gradients we want to compre in separate variables\n",
    "g2_his = gradient_bb.gradients_[:,1]*-1\n",
    "g1_mri = gradient_mics.gradients_[:,0]\n",
    "\n",
    "# Remove NaN values\n",
    "valid_indices = ~np.isnan(g2_his) & ~np.isnan(g1_mri)\n",
    "g2_his = rankdata(g2_his[valid_indices])\n",
    "g1_mri = rankdata(g1_mri[valid_indices])\n",
    "\n",
    "# Calculate the Spearman rank correlation coefficient\n",
    "correlation_coefficient, _ = spearmanr(g2_his, g1_mri)\n",
    "print(correlation_coefficient)"
   ]
  },
  {
   "cell_type": "code",
   "execution_count": null,
   "metadata": {
    "slideshow": {
     "slide_type": "fragment"
    }
   },
   "outputs": [],
   "source": []
  },
  {
   "cell_type": "markdown",
   "metadata": {
    "slideshow": {
     "slide_type": "slide"
    }
   },
   "source": [
    "## Plot ranked BigBrain-G2 and MICs-G1 on the cortical surface"
   ]
  },
  {
   "cell_type": "code",
   "execution_count": null,
   "metadata": {
    "slideshow": {
     "slide_type": "fragment"
    }
   },
   "outputs": [],
   "source": [
    "# Map the ROI to the surface vertices for plotting\n",
    "g2_his_vertex = map_to_labels(g2_his, atlas, fill=np.nan, mask=mask != 0)\n",
    "\n",
    "# Plot the vertex-wise mean intensity profile\n",
    "plot_hemispheres(inf_left, inf_right, array_name=g2_his_vertex, nan_color=(0, 0, 0, 1),share='both', zoom=1.25, size=(900, 250),embed_nb=True, color_bar='bottom', layout_style='row', color_range=(0, Ndim), cmap='Reds')"
   ]
  },
  {
   "cell_type": "code",
   "execution_count": null,
   "metadata": {
    "slideshow": {
     "slide_type": "fragment"
    }
   },
   "outputs": [],
   "source": [
    "# Map the ROI to the surface vertices for plotting\n",
    "g1_mri_vertex = map_to_labels(g1_mri, atlas, fill=np.nan, mask=mask != 0)\n",
    "\n",
    "# Plot the vertex-wise mean intensity profile\n",
    "plot_hemispheres(inf_left, inf_right, array_name=g1_mri_vertex, nan_color=(0, 0, 0, 1),share='both', zoom=1.25, size=(900, 250),embed_nb=True, color_bar='bottom', layout_style='row', color_range=(0, Ndim), cmap='Blues')"
   ]
  },
  {
   "cell_type": "markdown",
   "metadata": {
    "slideshow": {
     "slide_type": "slide"
    }
   },
   "source": [
    "## Compute rank differences between ROIs in MPC-MRI and MPC-Hist sensory-fugal gradients"
   ]
  },
  {
   "cell_type": "code",
   "execution_count": null,
   "metadata": {
    "slideshow": {
     "slide_type": "fragment"
    }
   },
   "outputs": [],
   "source": [
    "# Calculate the ROI with highest similituded between G2-BigBrain and G1-MRI\n",
    "g1g2 = g1_mri-g2_his\n",
    "\n",
    "# Map the ROI to surface\n",
    "g1g2_vertex = map_to_labels(g1g2, atlas, fill=np.nan, mask=mask != 0)\n",
    "\n",
    "# Plot the vertex-wise mean intensity profile\n",
    "plot_hemispheres(inf_left, inf_right, array_name=g1g2_vertex, nan_color=(0, 0, 0, 1), share='both', zoom=1.25, size=(900, 250), embed_nb=True, color_bar='bottom', \n",
    "                 cmap='Spectral')"
   ]
  },
  {
   "cell_type": "code",
   "execution_count": null,
   "metadata": {
    "slideshow": {
     "slide_type": "fragment"
    }
   },
   "outputs": [],
   "source": [
    "# Create a scatter plot with color mapping\n",
    "plt.scatter(g2_his, g1_mri, c=g1g2[valid_indices], cmap='Spectral', label=f'Correlation = {correlation_coefficient:.2f}')\n",
    "plt.xlabel('MPC-Hist'); plt.ylabel('MPC-MRI')\n",
    "plt.title('Ranked sensory-fugal gradient - MRI & Histology')\n",
    "plt.legend(); plt.grid(True)\n",
    "\n",
    "# Add a colorbar for the colormap\n",
    "cbar = plt.colorbar()\n",
    "cbar.set_label('g1g2')"
   ]
  },
  {
   "cell_type": "markdown",
   "metadata": {
    "slideshow": {
     "slide_type": "slide"
    }
   },
   "source": [
    "# 9. Use a permutation test to assess the statistical significance the correlation \n",
    "\n",
    "## Why do we use a permutation test?\n",
    "\n",
    "Given the spatial autocorrelation present in many modalities, applying linear regression or similar methods may provide biased test statistics. To circumvent this issue, we recommend comparing the observed test statistic to those of a set of distributions with similar spatial autocorrelation. \n",
    " \n",
    "Here we will use spin permutations. In cases where the input data lies on a surface and most of the sphere is used or if data can be mapped to a sphere, we recommend to use spin permutation. Otherwise, we recommend to use alternative methods such as Moran Spectral Randomization, for instance when analyses are confined to a single subregions of the cortical sheet. When performing a statistical test with multiple gradients as either predictor or response variable, we recommend randomizing the non-gradient variable as these randomizations need not maintain statistical independence across different eigenvectors.\n",
    "\n",
    "<div style=\"text-align: center\">\n",
    "<img src=\"https://media.springernature.com/full/springer-static/image/art%3A10.1038%2Fs42003-020-0794-7/MediaObjects/42003_2020_794_Fig10_HTML.png?as=webp\" alt=\"\" width=\"800\" id=\"hp\"/>\n",
    "</div>\n"
   ]
  },
  {
   "cell_type": "markdown",
   "metadata": {
    "slideshow": {
     "slide_type": "slide"
    }
   },
   "source": [
    "## Statistical significance the correlation with permutations"
   ]
  },
  {
   "cell_type": "markdown",
   "metadata": {
    "slideshow": {
     "slide_type": "fragment"
    }
   },
   "source": [
    "<details><summary> ▶️ cleanup</summary>\n",
    "<p> \n",
    "\n",
    "```python\n",
    "# Cleanup to save some memory for binder\n",
    "!rm histology_*.h5 \n",
    "!datalad remove -d conp-dataset/projects/mica-mics\n",
    "del(h5, fs5_left, fs5_right, histology_profiles, histology_profiles_fs5, histology_profiles_mean, histology_profiles_mean_fs5, histology_profiles_roi, ax, MPC_bb, vertexwise_gradient, MPC_files, MPC_mics, MPC_mics_mean, gradient_bb, gradient_mics, corr_bb_mics)\n",
    "```\n",
    "    \n",
    "</p>\n",
    "</details>"
   ]
  },
  {
   "cell_type": "code",
   "execution_count": null,
   "metadata": {
    "slideshow": {
     "slide_type": "fragment"
    }
   },
   "outputs": [],
   "source": [
    "from brainspace.null_models import SpinPermutations\n",
    "from brainspace.datasets import load_conte69\n",
    "\n",
    "# Load the sphere of fsLR-32k\n",
    "sphere_lh, sphere_rh = load_conte69(as_sphere=True)\n",
    "\n",
    "# Let's create some rotations\n",
    "n_rand = 1000\n",
    "\n",
    "# Initialize the spin permutation object\n",
    "sp = SpinPermutations(n_rep=n_rand)\n",
    "sp.fit(sphere_lh, points_rh=sphere_rh)"
   ]
  },
  {
   "cell_type": "code",
   "execution_count": null,
   "metadata": {
    "slideshow": {
     "slide_type": "fragment"
    }
   },
   "outputs": [],
   "source": [
    "# Number of vertices\n",
    "Nv = inf_left.points.shape[0]\n",
    "\n",
    "# Map the ROI to the surface vertices\n",
    "g1_mri_vertex = map_to_labels(g1_mri, atlas, fill=np.nan, mask=mask != 0)\n",
    "\n",
    "# Left and right G1-MRI data\n",
    "g1_mri_lh = g1_mri_vertex[0:Nv]\n",
    "g1_mri_rh = g1_mri_vertex[Nv:]\n",
    "\n",
    "# Rotated G1 from MRI\n",
    "g1_mri_rotated = np.hstack(sp.randomize(g1_mri_lh, g1_mri_rh))"
   ]
  },
  {
   "cell_type": "markdown",
   "metadata": {
    "slideshow": {
     "slide_type": "slide"
    }
   },
   "source": [
    "# Plot an example of the rotations"
   ]
  },
  {
   "cell_type": "code",
   "execution_count": null,
   "metadata": {
    "slideshow": {
     "slide_type": "fragment"
    }
   },
   "outputs": [],
   "source": [
    "# Plot some rotations\n",
    "plot_hemispheres(inf_left, inf_right, \n",
    "                 array_name=g1_mri_rotated[:3], \n",
    "                 size=(1200, 600),\n",
    "                 cmap='Blues',\n",
    "                 embed_nb=True,\n",
    "                 nan_color=(0.5, 0.5, 0.5, 1), \n",
    "                 color_bar=True,\n",
    "                 zoom=1.55, \n",
    "                 label_text=['Rot0', 'Rot1', 'Rot2'])"
   ]
  },
  {
   "cell_type": "markdown",
   "metadata": {
    "slideshow": {
     "slide_type": "fragment"
    }
   },
   "source": [
    "As you can see, the medial wall is also rotated along the mesh (gray region in each surface illustration) - we will need to exclude this region when computing the correlations in each iteration.\n",
    "\n",
    "Now we simply compute the correlations between the first gradient and the original data, as well as all rotated data."
   ]
  },
  {
   "cell_type": "markdown",
   "metadata": {
    "slideshow": {
     "slide_type": "slide"
    }
   },
   "source": [
    "# Compute the permutations p-values"
   ]
  },
  {
   "cell_type": "code",
   "execution_count": null,
   "metadata": {
    "slideshow": {
     "slide_type": "fragment"
    }
   },
   "outputs": [],
   "source": [
    "# Create a subplot\n",
    "fig, axs = plt.subplots(1, 1, figsize=(4.5, 3.5))\n",
    "\n",
    "# Create an empty array to store correlation values\n",
    "r_spin = np.empty(n_rand)\n",
    "\n",
    "# Define a mask to exclude NaN values from calculations\n",
    "mask = ~np.isnan(g2_his_vertex)\n",
    "\n",
    "# Specify the feature name\n",
    "fn = 'g1_mri'\n",
    "\n",
    "# Calculate the observed correlation and p-value\n",
    "r_obs, pv_obs = spearmanr(g1_mri_vertex[mask], g2_his_vertex[mask])\n",
    "\n",
    "# Compute permutation p-values\n",
    "for i, perm in enumerate(g1_mri_rotated):\n",
    "    mask_rot = mask & ~np.isnan(perm)  # Remove midline and NaN values\n",
    "    r_spin[i] = spearmanr(perm[mask_rot], g2_his_vertex[mask_rot])[0]\n",
    "\n",
    "# Calculate the permutation p-value\n",
    "pv_spin = np.mean(np.abs(r_spin) >= np.abs(r_obs))\n",
    "\n",
    "# Plot the null distribution\n",
    "axs.hist(r_spin, bins=25, density=True, alpha=0.5, color=(.8, .8, .8))\n",
    "axs.axvline(r_obs, lw=2, ls='--', color='k')\n",
    "\n",
    "# Set axis labels\n",
    "axs.set_xlabel(f'Correlation with {fn}')\n",
    "axs.set_ylabel('Density')\n",
    "\n",
    "# Print results\n",
    "print(f'{fn.capitalize()}:\\n Obs : {pv_obs:.5e}\\n Spin: {pv_spin:.5e}\\n')\n",
    "\n",
    "# Ensure proper layout and display the plot\n",
    "fig.tight_layout()\n",
    "plt.show()"
   ]
  },
  {
   "cell_type": "markdown",
   "metadata": {
    "slideshow": {
     "slide_type": "slide"
    }
   },
   "source": [
    "# End of the tutorial... thanks!"
   ]
  },
  {
   "cell_type": "markdown",
   "metadata": {
    "slideshow": {
     "slide_type": "fragment"
    }
   },
   "source": [
    "<details><summary> ▶️ See you all later!!</summary>\n",
    "<p> \n",
    "\n",
    "    \n",
    "<div style=\"text-align: right\">\n",
    "<img src=\"https://cdn.dribbble.com/users/544967/screenshots/2944749/iceland.gif\" alt=\"\" width=\"1200\" id=\"hp\"/>\n",
    "</div>\n",
    "    \n",
    "</p>\n",
    "</details>"
   ]
  },
  {
   "cell_type": "markdown",
   "metadata": {
    "slideshow": {
     "slide_type": "fragment"
    }
   },
   "source": [
    "# Open  tools\n",
    "\n",
    "<style type=\"text/css\">\n",
    ".tg  {border-collapse:collapse;border-spacing:0;}\n",
    ".tg td{border-color:black;border-style:solid;border-width:1px;font-family:Arial, sans-serif;font-size:14px;\n",
    "  overflow:hidden;padding:10px 5px;word-break:normal;}\n",
    ".tg th{border-color:black;border-style:solid;border-width:1px;font-family:Arial, sans-serif;font-size:14px;\n",
    "  font-weight:normal;overflow:hidden;padding:10px 5px;word-break:normal;}\n",
    ".tg .tg-0lax{text-align:left;vertical-align:top}\n",
    "</style>\n",
    "<table class=\"tg\">\n",
    "<tbody>\n",
    "  <tr>\n",
    "    <td class=\"tg-0lax\">\n",
    "        <div style=\"text-align: center\">\n",
    "        <a href=\"https://brainspace.readthedocs.io/en/latest/\"><img src=\"https://mica-mni.github.io/assets/BRAINSPACE_LOGO.png\" alt=\"\" width=\"400\" id=\"hp\"/>\n",
    "        </div>\n",
    "    </td>\n",
    "    <td class=\"tg-0lax\">\n",
    "    <div style=\"text-align: center\">\n",
    "<a href=\"https://portal.conp.ca/dataset?id=projects/mica-mics\"><img src=\"https://micapipe.readthedocs.io/en/latest/_images/mics_logo.png\" alt=\"\" width=\"200\" id=\"hp\"/>\n",
    "</div>  \n",
    "    </td>\n",
    "  </tr>\n",
    "  <tr>\n",
    "    <td class=\"tg-0lax\">\n",
    "    <div style=\"text-align: center\">\n",
    "<a href=\"https://brainstat.readthedocs.io/en/master/\"><img src=\"https://raw.githubusercontent.com/MICA-MNI/BrainStat/master/docs/figures/brainstat_logo_bw.png\" alt=\"\" width=\"400\" id=\"hp\"/>\n",
    "</div>   \n",
    "    </td>\n",
    "    <td class=\"tg-0lax\">\n",
    "      <div style=\"text-align: center\">\n",
    "<a href=\"https://micapipe.readthedocs.io/en/latest/\"><img src=\"https://raw.githubusercontent.com/MICA-MNI/micapipe/master/docs/figures/micapipe.png\" alt=\"\" width=\"200\" id=\"hp\"/>\n",
    "</div>  \n",
    "    </td>\n",
    "  </tr>\n",
    "  <tr>\n",
    "    <td class=\"tg-0lax\">\n",
    "    <div style=\"text-align: center\">\n",
    "<a href=\"https://bigbrainwarp.readthedocs.io/en/latest/\"><img src=\"https://bigbrainwarp.readthedocs.io/en/latest/_static/warp2.png\" alt=\"\" width=\"200\" id=\"hp\"/>\n",
    "</div>    \n",
    "    </td>\n",
    "    <td class=\"tg-0lax\">\n",
    "    <div style=\"text-align: center\">\n",
    "<a href=\"https://enigma-toolbox.readthedocs.io/en/latest\"><img src=\"https://raw.githubusercontent.com/saratheriver/enigma-extra/master/Enigma_toolbox2.png\" alt=\"\" width=\"200\" id=\"hp\"/>\n",
    "</div> \n",
    "    </td>\n",
    "  </tr>\n",
    "</tbody>\n",
    "</table>"
   ]
  },
  {
   "cell_type": "markdown",
   "metadata": {
    "slideshow": {
     "slide_type": "slide"
    }
   },
   "source": [
    "# EXTRA: Context decoding\n",
    "\n",
    "We can use meta-analytic tools to identify term-based associations of brain maps. These tools correlate an input feature map with fMRI activation patterns associated with numerous terms. This allows us to contextualize our input data in relation to a large bank of functional, anatomical, and disorder-related terms. For this purpose, we'll use a collection of NeuroSynth maps/terms included in the BrainStat toolbox. \n",
    "\n",
    "> Yarkoni et al. \"Large-scale automated synthesis of human functional neuroimaging data.\" Nature methods 8.8 (2011): 665-670. https://doi.org/10.1038/nmeth.1635"
   ]
  },
  {
   "cell_type": "markdown",
   "metadata": {
    "slideshow": {
     "slide_type": "slide"
    }
   },
   "source": [
    "## Ranked MICs-MRI gradient plotted on the cortical surface"
   ]
  },
  {
   "cell_type": "code",
   "execution_count": null,
   "metadata": {
    "slideshow": {
     "slide_type": "fragment"
    }
   },
   "outputs": [],
   "source": [
    "# Map the ROI to the surface vertices for plotting\n",
    "g1_mri_vertex = map_to_labels(g1_mri, atlas, fill=np.nan, mask=mask != 0)\n",
    "\n",
    "# Plot the vertex-wise mean intensity profile\n",
    "plot_hemispheres(inf_left, inf_right, \n",
    "                 array_name=g1_mri_vertex, \n",
    "                 nan_color=(0, 0, 0, 1),\n",
    "                 zoom=1.3, \n",
    "                 size=(900, 750), \n",
    "                 embed_nb=True,\n",
    "                 color_bar='right',\n",
    "                 layout_style='grid',\n",
    "                 color_range=(0, Ndim),\n",
    "                 cmap='Blues',\n",
    "                 label_text={'left': ['Lateral', 'Medial'], 'top': ['Left', 'Right']}\n",
    "                )"
   ]
  },
  {
   "cell_type": "markdown",
   "metadata": {
    "slideshow": {
     "slide_type": "slide"
    }
   },
   "source": [
    "## Context decoding of MPC-MRI G1"
   ]
  },
  {
   "cell_type": "code",
   "execution_count": null,
   "metadata": {
    "slideshow": {
     "slide_type": "fragment"
    }
   },
   "outputs": [],
   "source": [
    "from brainstat.context.meta_analysis import meta_analytic_decoder\n",
    "from wordcloud import WordCloud\n",
    "\n",
    "# Let's decode MPC-MRI G1 using terms provided in NeuroSynth\n",
    "meta_analysis_G1 = meta_analytic_decoder(\"fslr32k\", g1_mri_vertex, data_dir='./Neurosynth')\n",
    "\n",
    "# Print terms with strongest positive and negative correlation with MPC-Hist G2\n",
    "print(meta_analysis_G1)\n",
    "\n",
    "# Generate a word cloud from the meta-analytic correlations - larger words mean stronger correlations\n",
    "wc = WordCloud(background_color=\"white\", random_state=0)\n",
    "wc.generate_from_frequencies(frequencies=meta_analysis_G1.to_dict()[\"Pearson's r\"])\n",
    "plt.imshow(wc)\n",
    "plt.axis(\"off\")\n",
    "plt.show()"
   ]
  },
  {
   "cell_type": "code",
   "execution_count": null,
   "metadata": {},
   "outputs": [],
   "source": []
  }
 ],
 "metadata": {
  "celltoolbar": "Slideshow",
  "kernelspec": {
   "display_name": "Python 3 (ipykernel)",
   "language": "python",
   "name": "python3"
  },
  "language_info": {
   "codemirror_mode": {
    "name": "ipython",
    "version": 3
   },
   "file_extension": ".py",
   "mimetype": "text/x-python",
   "name": "python",
   "nbconvert_exporter": "python",
   "pygments_lexer": "ipython3",
   "version": "3.9.13"
  },
  "rise": {
   "theme": "moon",
   "transition": "fade"
  }
 },
 "nbformat": 4,
 "nbformat_minor": 4
}
